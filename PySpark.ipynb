{
  "nbformat": 4,
  "nbformat_minor": 0,
  "metadata": {
    "colab": {
      "provenance": [],
      "authorship_tag": "ABX9TyMsZ+Ttpnil5nfSqX2h6zEU",
      "include_colab_link": true
    },
    "kernelspec": {
      "name": "python3",
      "display_name": "Python 3"
    },
    "language_info": {
      "name": "python"
    }
  },
  "cells": [
    {
      "cell_type": "markdown",
      "metadata": {
        "id": "view-in-github",
        "colab_type": "text"
      },
      "source": [
        "<a href=\"https://colab.research.google.com/github/BhanuSaketh/PySpark/blob/main/PySpark.ipynb\" target=\"_parent\"><img src=\"https://colab.research.google.com/assets/colab-badge.svg\" alt=\"Open In Colab\"/></a>"
      ]
    },
    {
      "cell_type": "markdown",
      "source": [
        "**Data Loading**"
      ],
      "metadata": {
        "id": "mfmpfF9yk5wy"
      }
    },
    {
      "cell_type": "code",
      "source": [
        "import pyspark"
      ],
      "metadata": {
        "id": "2BUfhnZOhCuj"
      },
      "execution_count": 2,
      "outputs": []
    },
    {
      "cell_type": "code",
      "source": [
        "import pandas as pd\n",
        "df=pd.read_csv('test1.csv')\n",
        "type(df)"
      ],
      "metadata": {
        "colab": {
          "base_uri": "https://localhost:8080/",
          "height": 203
        },
        "id": "rhYMRTsmh0NZ",
        "outputId": "287b6193-f7d6-41e5-a281-a6017056aa65"
      },
      "execution_count": 3,
      "outputs": [
        {
          "output_type": "execute_result",
          "data": {
            "text/plain": [
              "pandas.core.frame.DataFrame"
            ],
            "text/html": [
              "<div style=\"max-width:800px; border: 1px solid var(--colab-border-color);\"><style>\n",
              "      pre.function-repr-contents {\n",
              "        overflow-x: auto;\n",
              "        padding: 8px 12px;\n",
              "        max-height: 500px;\n",
              "      }\n",
              "\n",
              "      pre.function-repr-contents.function-repr-contents-collapsed {\n",
              "        cursor: pointer;\n",
              "        max-height: 100px;\n",
              "      }\n",
              "    </style>\n",
              "    <pre style=\"white-space: initial; background:\n",
              "         var(--colab-secondary-surface-color); padding: 8px 12px;\n",
              "         border-bottom: 1px solid var(--colab-border-color);\"><b>pandas.core.frame.DataFrame</b><br/>def __init__(data=None, index: Axes | None=None, columns: Axes | None=None, dtype: Dtype | None=None, copy: bool | None=None) -&gt; None</pre><pre class=\"function-repr-contents function-repr-contents-collapsed\" style=\"\"><a class=\"filepath\" style=\"display:none\" href=\"#\">/usr/local/lib/python3.11/dist-packages/pandas/core/frame.py</a>Two-dimensional, size-mutable, potentially heterogeneous tabular data.\n",
              "\n",
              "Data structure also contains labeled axes (rows and columns).\n",
              "Arithmetic operations align on both row and column labels. Can be\n",
              "thought of as a dict-like container for Series objects. The primary\n",
              "pandas data structure.\n",
              "\n",
              "Parameters\n",
              "----------\n",
              "data : ndarray (structured or homogeneous), Iterable, dict, or DataFrame\n",
              "    Dict can contain Series, arrays, constants, dataclass or list-like objects. If\n",
              "    data is a dict, column order follows insertion-order. If a dict contains Series\n",
              "    which have an index defined, it is aligned by its index. This alignment also\n",
              "    occurs if data is a Series or a DataFrame itself. Alignment is done on\n",
              "    Series/DataFrame inputs.\n",
              "\n",
              "    If data is a list of dicts, column order follows insertion-order.\n",
              "\n",
              "index : Index or array-like\n",
              "    Index to use for resulting frame. Will default to RangeIndex if\n",
              "    no indexing information part of input data and no index provided.\n",
              "columns : Index or array-like\n",
              "    Column labels to use for resulting frame when data does not have them,\n",
              "    defaulting to RangeIndex(0, 1, 2, ..., n). If data contains column labels,\n",
              "    will perform column selection instead.\n",
              "dtype : dtype, default None\n",
              "    Data type to force. Only a single dtype is allowed. If None, infer.\n",
              "copy : bool or None, default None\n",
              "    Copy data from inputs.\n",
              "    For dict data, the default of None behaves like ``copy=True``.  For DataFrame\n",
              "    or 2d ndarray input, the default of None behaves like ``copy=False``.\n",
              "    If data is a dict containing one or more Series (possibly of different dtypes),\n",
              "    ``copy=False`` will ensure that these inputs are not copied.\n",
              "\n",
              "    .. versionchanged:: 1.3.0\n",
              "\n",
              "See Also\n",
              "--------\n",
              "DataFrame.from_records : Constructor from tuples, also record arrays.\n",
              "DataFrame.from_dict : From dicts of Series, arrays, or dicts.\n",
              "read_csv : Read a comma-separated values (csv) file into DataFrame.\n",
              "read_table : Read general delimited file into DataFrame.\n",
              "read_clipboard : Read text from clipboard into DataFrame.\n",
              "\n",
              "Notes\n",
              "-----\n",
              "Please reference the :ref:`User Guide &lt;basics.dataframe&gt;` for more information.\n",
              "\n",
              "Examples\n",
              "--------\n",
              "Constructing DataFrame from a dictionary.\n",
              "\n",
              "&gt;&gt;&gt; d = {&#x27;col1&#x27;: [1, 2], &#x27;col2&#x27;: [3, 4]}\n",
              "&gt;&gt;&gt; df = pd.DataFrame(data=d)\n",
              "&gt;&gt;&gt; df\n",
              "   col1  col2\n",
              "0     1     3\n",
              "1     2     4\n",
              "\n",
              "Notice that the inferred dtype is int64.\n",
              "\n",
              "&gt;&gt;&gt; df.dtypes\n",
              "col1    int64\n",
              "col2    int64\n",
              "dtype: object\n",
              "\n",
              "To enforce a single dtype:\n",
              "\n",
              "&gt;&gt;&gt; df = pd.DataFrame(data=d, dtype=np.int8)\n",
              "&gt;&gt;&gt; df.dtypes\n",
              "col1    int8\n",
              "col2    int8\n",
              "dtype: object\n",
              "\n",
              "Constructing DataFrame from a dictionary including Series:\n",
              "\n",
              "&gt;&gt;&gt; d = {&#x27;col1&#x27;: [0, 1, 2, 3], &#x27;col2&#x27;: pd.Series([2, 3], index=[2, 3])}\n",
              "&gt;&gt;&gt; pd.DataFrame(data=d, index=[0, 1, 2, 3])\n",
              "   col1  col2\n",
              "0     0   NaN\n",
              "1     1   NaN\n",
              "2     2   2.0\n",
              "3     3   3.0\n",
              "\n",
              "Constructing DataFrame from numpy ndarray:\n",
              "\n",
              "&gt;&gt;&gt; df2 = pd.DataFrame(np.array([[1, 2, 3], [4, 5, 6], [7, 8, 9]]),\n",
              "...                    columns=[&#x27;a&#x27;, &#x27;b&#x27;, &#x27;c&#x27;])\n",
              "&gt;&gt;&gt; df2\n",
              "   a  b  c\n",
              "0  1  2  3\n",
              "1  4  5  6\n",
              "2  7  8  9\n",
              "\n",
              "Constructing DataFrame from a numpy ndarray that has labeled columns:\n",
              "\n",
              "&gt;&gt;&gt; data = np.array([(1, 2, 3), (4, 5, 6), (7, 8, 9)],\n",
              "...                 dtype=[(&quot;a&quot;, &quot;i4&quot;), (&quot;b&quot;, &quot;i4&quot;), (&quot;c&quot;, &quot;i4&quot;)])\n",
              "&gt;&gt;&gt; df3 = pd.DataFrame(data, columns=[&#x27;c&#x27;, &#x27;a&#x27;])\n",
              "...\n",
              "&gt;&gt;&gt; df3\n",
              "   c  a\n",
              "0  3  1\n",
              "1  6  4\n",
              "2  9  7\n",
              "\n",
              "Constructing DataFrame from dataclass:\n",
              "\n",
              "&gt;&gt;&gt; from dataclasses import make_dataclass\n",
              "&gt;&gt;&gt; Point = make_dataclass(&quot;Point&quot;, [(&quot;x&quot;, int), (&quot;y&quot;, int)])\n",
              "&gt;&gt;&gt; pd.DataFrame([Point(0, 0), Point(0, 3), Point(2, 3)])\n",
              "   x  y\n",
              "0  0  0\n",
              "1  0  3\n",
              "2  2  3\n",
              "\n",
              "Constructing DataFrame from Series/DataFrame:\n",
              "\n",
              "&gt;&gt;&gt; ser = pd.Series([1, 2, 3], index=[&quot;a&quot;, &quot;b&quot;, &quot;c&quot;])\n",
              "&gt;&gt;&gt; df = pd.DataFrame(data=ser, index=[&quot;a&quot;, &quot;c&quot;])\n",
              "&gt;&gt;&gt; df\n",
              "   0\n",
              "a  1\n",
              "c  3\n",
              "\n",
              "&gt;&gt;&gt; df1 = pd.DataFrame([1, 2, 3], index=[&quot;a&quot;, &quot;b&quot;, &quot;c&quot;], columns=[&quot;x&quot;])\n",
              "&gt;&gt;&gt; df2 = pd.DataFrame(data=df1, index=[&quot;a&quot;, &quot;c&quot;])\n",
              "&gt;&gt;&gt; df2\n",
              "   x\n",
              "a  1\n",
              "c  3</pre>\n",
              "      <script>\n",
              "      if (google.colab.kernel.accessAllowed && google.colab.files && google.colab.files.view) {\n",
              "        for (const element of document.querySelectorAll('.filepath')) {\n",
              "          element.style.display = 'block'\n",
              "          element.onclick = (event) => {\n",
              "            event.preventDefault();\n",
              "            event.stopPropagation();\n",
              "            google.colab.files.view(element.textContent, 509);\n",
              "          };\n",
              "        }\n",
              "      }\n",
              "      for (const element of document.querySelectorAll('.function-repr-contents')) {\n",
              "        element.onclick = (event) => {\n",
              "          event.preventDefault();\n",
              "          event.stopPropagation();\n",
              "          element.classList.toggle('function-repr-contents-collapsed');\n",
              "        };\n",
              "      }\n",
              "      </script>\n",
              "      </div>"
            ]
          },
          "metadata": {},
          "execution_count": 3
        }
      ]
    },
    {
      "cell_type": "code",
      "source": [
        "from pyspark.sql import SparkSession"
      ],
      "metadata": {
        "id": "gxo2pSyuh6Ub"
      },
      "execution_count": 4,
      "outputs": []
    },
    {
      "cell_type": "code",
      "source": [
        "spark=SparkSession.builder.appName(\"Practise\").getOrCreate()"
      ],
      "metadata": {
        "id": "Yg4S9TzZiQKh"
      },
      "execution_count": 5,
      "outputs": []
    },
    {
      "cell_type": "code",
      "source": [
        "spark"
      ],
      "metadata": {
        "colab": {
          "base_uri": "https://localhost:8080/",
          "height": 219
        },
        "id": "wv0Gya-DiUHI",
        "outputId": "661816b6-a8a2-4a80-f534-a8c14e2c70eb"
      },
      "execution_count": 6,
      "outputs": [
        {
          "output_type": "execute_result",
          "data": {
            "text/plain": [
              "<pyspark.sql.session.SparkSession at 0x7a82d9bd2e50>"
            ],
            "text/html": [
              "\n",
              "            <div>\n",
              "                <p><b>SparkSession - in-memory</b></p>\n",
              "                \n",
              "        <div>\n",
              "            <p><b>SparkContext</b></p>\n",
              "\n",
              "            <p><a href=\"http://7117202857a7:4040\">Spark UI</a></p>\n",
              "\n",
              "            <dl>\n",
              "              <dt>Version</dt>\n",
              "                <dd><code>v3.5.4</code></dd>\n",
              "              <dt>Master</dt>\n",
              "                <dd><code>local[*]</code></dd>\n",
              "              <dt>AppName</dt>\n",
              "                <dd><code>Practise</code></dd>\n",
              "            </dl>\n",
              "        </div>\n",
              "        \n",
              "            </div>\n",
              "        "
            ]
          },
          "metadata": {},
          "execution_count": 6
        }
      ]
    },
    {
      "cell_type": "code",
      "source": [
        "df_spark=spark.read.option('header','true').csv(\"test1.csv\",inferSchema=True)\n",
        "type(df_spark)"
      ],
      "metadata": {
        "colab": {
          "base_uri": "https://localhost:8080/",
          "height": 186
        },
        "id": "vIYLFpTjicDS",
        "outputId": "672be85b-b21a-4e9d-9891-9d74f78ea9fb"
      },
      "execution_count": 36,
      "outputs": [
        {
          "output_type": "execute_result",
          "data": {
            "text/plain": [
              "pyspark.sql.dataframe.DataFrame"
            ],
            "text/html": [
              "<div style=\"max-width:800px; border: 1px solid var(--colab-border-color);\"><style>\n",
              "      pre.function-repr-contents {\n",
              "        overflow-x: auto;\n",
              "        padding: 8px 12px;\n",
              "        max-height: 500px;\n",
              "      }\n",
              "\n",
              "      pre.function-repr-contents.function-repr-contents-collapsed {\n",
              "        cursor: pointer;\n",
              "        max-height: 100px;\n",
              "      }\n",
              "    </style>\n",
              "    <pre style=\"white-space: initial; background:\n",
              "         var(--colab-secondary-surface-color); padding: 8px 12px;\n",
              "         border-bottom: 1px solid var(--colab-border-color);\"><b>pyspark.sql.dataframe.DataFrame</b><br/>def __init__(jdf: JavaObject, sql_ctx: Union[&#x27;SQLContext&#x27;, &#x27;SparkSession&#x27;])</pre><pre class=\"function-repr-contents function-repr-contents-collapsed\" style=\"\"><a class=\"filepath\" style=\"display:none\" href=\"#\">/usr/local/lib/python3.11/dist-packages/pyspark/sql/dataframe.py</a>A distributed collection of data grouped into named columns.\n",
              "\n",
              ".. versionadded:: 1.3.0\n",
              "\n",
              ".. versionchanged:: 3.4.0\n",
              "    Supports Spark Connect.\n",
              "\n",
              "Examples\n",
              "--------\n",
              "A :class:`DataFrame` is equivalent to a relational table in Spark SQL,\n",
              "and can be created using various functions in :class:`SparkSession`:\n",
              "\n",
              "&gt;&gt;&gt; people = spark.createDataFrame([\n",
              "...     {&quot;deptId&quot;: 1, &quot;age&quot;: 40, &quot;name&quot;: &quot;Hyukjin Kwon&quot;, &quot;gender&quot;: &quot;M&quot;, &quot;salary&quot;: 50},\n",
              "...     {&quot;deptId&quot;: 1, &quot;age&quot;: 50, &quot;name&quot;: &quot;Takuya Ueshin&quot;, &quot;gender&quot;: &quot;M&quot;, &quot;salary&quot;: 100},\n",
              "...     {&quot;deptId&quot;: 2, &quot;age&quot;: 60, &quot;name&quot;: &quot;Xinrong Meng&quot;, &quot;gender&quot;: &quot;F&quot;, &quot;salary&quot;: 150},\n",
              "...     {&quot;deptId&quot;: 3, &quot;age&quot;: 20, &quot;name&quot;: &quot;Haejoon Lee&quot;, &quot;gender&quot;: &quot;M&quot;, &quot;salary&quot;: 200}\n",
              "... ])\n",
              "\n",
              "Once created, it can be manipulated using the various domain-specific-language\n",
              "(DSL) functions defined in: :class:`DataFrame`, :class:`Column`.\n",
              "\n",
              "To select a column from the :class:`DataFrame`, use the apply method:\n",
              "\n",
              "&gt;&gt;&gt; age_col = people.age\n",
              "\n",
              "A more concrete example:\n",
              "\n",
              "&gt;&gt;&gt; # To create DataFrame using SparkSession\n",
              "... department = spark.createDataFrame([\n",
              "...     {&quot;id&quot;: 1, &quot;name&quot;: &quot;PySpark&quot;},\n",
              "...     {&quot;id&quot;: 2, &quot;name&quot;: &quot;ML&quot;},\n",
              "...     {&quot;id&quot;: 3, &quot;name&quot;: &quot;Spark SQL&quot;}\n",
              "... ])\n",
              "\n",
              "&gt;&gt;&gt; people.filter(people.age &gt; 30).join(\n",
              "...     department, people.deptId == department.id).groupBy(\n",
              "...     department.name, &quot;gender&quot;).agg({&quot;salary&quot;: &quot;avg&quot;, &quot;age&quot;: &quot;max&quot;}).show()\n",
              "+-------+------+-----------+--------+\n",
              "|   name|gender|avg(salary)|max(age)|\n",
              "+-------+------+-----------+--------+\n",
              "|     ML|     F|      150.0|      60|\n",
              "|PySpark|     M|       75.0|      50|\n",
              "+-------+------+-----------+--------+\n",
              "\n",
              "Notes\n",
              "-----\n",
              "A DataFrame should only be created as described above. It should not be directly\n",
              "created via using the constructor.</pre>\n",
              "      <script>\n",
              "      if (google.colab.kernel.accessAllowed && google.colab.files && google.colab.files.view) {\n",
              "        for (const element of document.querySelectorAll('.filepath')) {\n",
              "          element.style.display = 'block'\n",
              "          element.onclick = (event) => {\n",
              "            event.preventDefault();\n",
              "            event.stopPropagation();\n",
              "            google.colab.files.view(element.textContent, 80);\n",
              "          };\n",
              "        }\n",
              "      }\n",
              "      for (const element of document.querySelectorAll('.function-repr-contents')) {\n",
              "        element.onclick = (event) => {\n",
              "          event.preventDefault();\n",
              "          event.stopPropagation();\n",
              "          element.classList.toggle('function-repr-contents-collapsed');\n",
              "        };\n",
              "      }\n",
              "      </script>\n",
              "      </div>"
            ]
          },
          "metadata": {},
          "execution_count": 36
        }
      ]
    },
    {
      "cell_type": "code",
      "source": [
        "df_spark.show()"
      ],
      "metadata": {
        "colab": {
          "base_uri": "https://localhost:8080/"
        },
        "id": "kIXZywMkiqYJ",
        "outputId": "6c23378a-9595-4f5e-bb72-e0aa8ca01dbe"
      },
      "execution_count": 8,
      "outputs": [
        {
          "output_type": "stream",
          "name": "stdout",
          "text": [
            "+-------+----+----------+------+\n",
            "|   Name| Age|Experience|Salary|\n",
            "+-------+----+----------+------+\n",
            "|    Ram|  30|        10| 30000|\n",
            "|   Sita|  31|         8| 25000|\n",
            "|Hanuman|  29|         4| 20000|\n",
            "|  Bhanu|  24|         3| 20000|\n",
            "| Saketh|  21|         1| 15000|\n",
            "|   Hari|  23|         2| 18000|\n",
            "|  Sunny|NULL|      NULL| 40000|\n",
            "|   NULL|  34|        10| 38000|\n",
            "|   NULL|  36|      NULL|  NULL|\n",
            "+-------+----+----------+------+\n",
            "\n"
          ]
        }
      ]
    },
    {
      "cell_type": "code",
      "source": [
        "df_spark.head(3)"
      ],
      "metadata": {
        "colab": {
          "base_uri": "https://localhost:8080/"
        },
        "id": "k8EAmRidjNvr",
        "outputId": "44ae50d4-9fe6-4605-cbd7-4c49309876ac"
      },
      "execution_count": 9,
      "outputs": [
        {
          "output_type": "execute_result",
          "data": {
            "text/plain": [
              "[Row(Name='Ram', Age=30, Experience=10, Salary=30000),\n",
              " Row(Name='Sita', Age=31, Experience=8, Salary=25000),\n",
              " Row(Name='Hanuman', Age=29, Experience=4, Salary=20000)]"
            ]
          },
          "metadata": {},
          "execution_count": 9
        }
      ]
    },
    {
      "cell_type": "code",
      "source": [
        "df_spark.printSchema()"
      ],
      "metadata": {
        "colab": {
          "base_uri": "https://localhost:8080/"
        },
        "id": "rEn3FJZajxMC",
        "outputId": "dd215d9c-1daa-403a-e5a6-c0d84785ff82"
      },
      "execution_count": 10,
      "outputs": [
        {
          "output_type": "stream",
          "name": "stdout",
          "text": [
            "root\n",
            " |-- Name: string (nullable = true)\n",
            " |-- Age: integer (nullable = true)\n",
            " |-- Experience: integer (nullable = true)\n",
            " |-- Salary: integer (nullable = true)\n",
            "\n"
          ]
        }
      ]
    },
    {
      "cell_type": "code",
      "source": [
        "df_spark.columns"
      ],
      "metadata": {
        "colab": {
          "base_uri": "https://localhost:8080/"
        },
        "id": "GO176hIomn_v",
        "outputId": "a08ed931-66d3-4d1f-ba83-6b1cb752482b"
      },
      "execution_count": 11,
      "outputs": [
        {
          "output_type": "execute_result",
          "data": {
            "text/plain": [
              "['Name', 'Age', 'Experience', 'Salary']"
            ]
          },
          "metadata": {},
          "execution_count": 11
        }
      ]
    },
    {
      "cell_type": "code",
      "source": [
        "df_spark.select(\"Name\",\"Experience\").show()"
      ],
      "metadata": {
        "colab": {
          "base_uri": "https://localhost:8080/"
        },
        "id": "uUd433VDm9Du",
        "outputId": "7a075f96-21de-40f6-ad82-95709a3c53c9"
      },
      "execution_count": 12,
      "outputs": [
        {
          "output_type": "stream",
          "name": "stdout",
          "text": [
            "+-------+----------+\n",
            "|   Name|Experience|\n",
            "+-------+----------+\n",
            "|    Ram|        10|\n",
            "|   Sita|         8|\n",
            "|Hanuman|         4|\n",
            "|  Bhanu|         3|\n",
            "| Saketh|         1|\n",
            "|   Hari|         2|\n",
            "|  Sunny|      NULL|\n",
            "|   NULL|        10|\n",
            "|   NULL|      NULL|\n",
            "+-------+----------+\n",
            "\n"
          ]
        }
      ]
    },
    {
      "cell_type": "code",
      "source": [
        "df_spark.dtypes"
      ],
      "metadata": {
        "colab": {
          "base_uri": "https://localhost:8080/"
        },
        "id": "RY3xHSTonjZ8",
        "outputId": "68208f6a-640e-488e-f48d-2afb097543e4"
      },
      "execution_count": 13,
      "outputs": [
        {
          "output_type": "execute_result",
          "data": {
            "text/plain": [
              "[('Name', 'string'), ('Age', 'int'), ('Experience', 'int'), ('Salary', 'int')]"
            ]
          },
          "metadata": {},
          "execution_count": 13
        }
      ]
    },
    {
      "cell_type": "markdown",
      "source": [
        "**Data Preprocessing**"
      ],
      "metadata": {
        "id": "QWjLcPuhlCuS"
      }
    },
    {
      "cell_type": "code",
      "source": [
        "df_spark.describe().show()"
      ],
      "metadata": {
        "colab": {
          "base_uri": "https://localhost:8080/"
        },
        "id": "KI5O2CQKkpGA",
        "outputId": "c2d5658d-e911-466a-9b7c-a9f9d19afbe3"
      },
      "execution_count": 14,
      "outputs": [
        {
          "output_type": "stream",
          "name": "stdout",
          "text": [
            "+-------+-----+------------------+------------------+-----------------+\n",
            "|summary| Name|               Age|        Experience|           Salary|\n",
            "+-------+-----+------------------+------------------+-----------------+\n",
            "|  count|    7|                 8|                 7|                8|\n",
            "|   mean| NULL|              28.5| 5.428571428571429|          25750.0|\n",
            "| stddev| NULL|5.3718844791323335|3.8234863173611093|9361.776388210581|\n",
            "|    min|Bhanu|                21|                 1|            15000|\n",
            "|    max|Sunny|                36|                10|            40000|\n",
            "+-------+-----+------------------+------------------+-----------------+\n",
            "\n"
          ]
        }
      ]
    },
    {
      "cell_type": "code",
      "source": [
        "df_spark=df_spark.withColumn(\"Experience After 2 years\",df_spark[\"Experience\"]+2)"
      ],
      "metadata": {
        "id": "o1axOiqvn24f"
      },
      "execution_count": 15,
      "outputs": []
    },
    {
      "cell_type": "code",
      "source": [
        "df_spark.show()"
      ],
      "metadata": {
        "colab": {
          "base_uri": "https://localhost:8080/"
        },
        "id": "hwLtNH9UoTxL",
        "outputId": "d6c18382-8703-43a9-b63c-777dae1f4eaa"
      },
      "execution_count": 16,
      "outputs": [
        {
          "output_type": "stream",
          "name": "stdout",
          "text": [
            "+-------+----+----------+------+------------------------+\n",
            "|   Name| Age|Experience|Salary|Experience After 2 years|\n",
            "+-------+----+----------+------+------------------------+\n",
            "|    Ram|  30|        10| 30000|                      12|\n",
            "|   Sita|  31|         8| 25000|                      10|\n",
            "|Hanuman|  29|         4| 20000|                       6|\n",
            "|  Bhanu|  24|         3| 20000|                       5|\n",
            "| Saketh|  21|         1| 15000|                       3|\n",
            "|   Hari|  23|         2| 18000|                       4|\n",
            "|  Sunny|NULL|      NULL| 40000|                    NULL|\n",
            "|   NULL|  34|        10| 38000|                      12|\n",
            "|   NULL|  36|      NULL|  NULL|                    NULL|\n",
            "+-------+----+----------+------+------------------------+\n",
            "\n"
          ]
        }
      ]
    },
    {
      "cell_type": "code",
      "source": [
        "df_spark=df_spark.drop(\"Experience After 2 years\")"
      ],
      "metadata": {
        "id": "CtjhVisUoXq-"
      },
      "execution_count": 17,
      "outputs": []
    },
    {
      "cell_type": "code",
      "source": [
        "df_spark.show()"
      ],
      "metadata": {
        "colab": {
          "base_uri": "https://localhost:8080/"
        },
        "id": "9akgpgkioyEI",
        "outputId": "025de9fa-0186-4757-cadf-5e47fb01dd22"
      },
      "execution_count": 18,
      "outputs": [
        {
          "output_type": "stream",
          "name": "stdout",
          "text": [
            "+-------+----+----------+------+\n",
            "|   Name| Age|Experience|Salary|\n",
            "+-------+----+----------+------+\n",
            "|    Ram|  30|        10| 30000|\n",
            "|   Sita|  31|         8| 25000|\n",
            "|Hanuman|  29|         4| 20000|\n",
            "|  Bhanu|  24|         3| 20000|\n",
            "| Saketh|  21|         1| 15000|\n",
            "|   Hari|  23|         2| 18000|\n",
            "|  Sunny|NULL|      NULL| 40000|\n",
            "|   NULL|  34|        10| 38000|\n",
            "|   NULL|  36|      NULL|  NULL|\n",
            "+-------+----+----------+------+\n",
            "\n"
          ]
        }
      ]
    },
    {
      "cell_type": "code",
      "source": [
        "df_spark.withColumnRenamed(\"Name\",\"New Name\").show()"
      ],
      "metadata": {
        "colab": {
          "base_uri": "https://localhost:8080/"
        },
        "id": "yl3tfQSgoz9F",
        "outputId": "1ecee169-cac2-46a3-f96b-e3e9a7ef7f06"
      },
      "execution_count": 19,
      "outputs": [
        {
          "output_type": "stream",
          "name": "stdout",
          "text": [
            "+--------+----+----------+------+\n",
            "|New Name| Age|Experience|Salary|\n",
            "+--------+----+----------+------+\n",
            "|     Ram|  30|        10| 30000|\n",
            "|    Sita|  31|         8| 25000|\n",
            "| Hanuman|  29|         4| 20000|\n",
            "|   Bhanu|  24|         3| 20000|\n",
            "|  Saketh|  21|         1| 15000|\n",
            "|    Hari|  23|         2| 18000|\n",
            "|   Sunny|NULL|      NULL| 40000|\n",
            "|    NULL|  34|        10| 38000|\n",
            "|    NULL|  36|      NULL|  NULL|\n",
            "+--------+----+----------+------+\n",
            "\n"
          ]
        }
      ]
    },
    {
      "cell_type": "code",
      "source": [
        "df_spark.show()"
      ],
      "metadata": {
        "id": "-GNCD_J9o96N",
        "colab": {
          "base_uri": "https://localhost:8080/"
        },
        "outputId": "ebf68752-c2e7-41fc-d849-9cf83669da63"
      },
      "execution_count": 21,
      "outputs": [
        {
          "output_type": "stream",
          "name": "stdout",
          "text": [
            "+-------+----+----------+------+\n",
            "|   Name| Age|Experience|Salary|\n",
            "+-------+----+----------+------+\n",
            "|    Ram|  30|        10| 30000|\n",
            "|   Sita|  31|         8| 25000|\n",
            "|Hanuman|  29|         4| 20000|\n",
            "|  Bhanu|  24|         3| 20000|\n",
            "| Saketh|  21|         1| 15000|\n",
            "|   Hari|  23|         2| 18000|\n",
            "|  Sunny|NULL|      NULL| 40000|\n",
            "|   NULL|  34|        10| 38000|\n",
            "|   NULL|  36|      NULL|  NULL|\n",
            "+-------+----+----------+------+\n",
            "\n"
          ]
        }
      ]
    },
    {
      "cell_type": "code",
      "source": [
        "df_spark.na.drop().show()"
      ],
      "metadata": {
        "colab": {
          "base_uri": "https://localhost:8080/"
        },
        "id": "-M6XOZz9TIPu",
        "outputId": "73bcfef2-33d6-4783-fbba-024bd59d665e"
      },
      "execution_count": 22,
      "outputs": [
        {
          "output_type": "stream",
          "name": "stdout",
          "text": [
            "+-------+---+----------+------+\n",
            "|   Name|Age|Experience|Salary|\n",
            "+-------+---+----------+------+\n",
            "|    Ram| 30|        10| 30000|\n",
            "|   Sita| 31|         8| 25000|\n",
            "|Hanuman| 29|         4| 20000|\n",
            "|  Bhanu| 24|         3| 20000|\n",
            "| Saketh| 21|         1| 15000|\n",
            "|   Hari| 23|         2| 18000|\n",
            "+-------+---+----------+------+\n",
            "\n"
          ]
        }
      ]
    },
    {
      "cell_type": "code",
      "source": [
        "## In drop we have options how,thresh,subset\n",
        "## how=any,all(any says any null delete and all says if all are null then delete) and thresh=int (atleast int no of non-null should present)\n",
        "## subset says delete form specified column if null present in that column\n",
        "df_spark.na.drop(how='any',thresh=2).show()\n",
        "df_spark.na.drop(how='any',subset=['Age']).show()"
      ],
      "metadata": {
        "colab": {
          "base_uri": "https://localhost:8080/"
        },
        "id": "RjN6oGAUXdJV",
        "outputId": "b3e819c6-3d1c-4bf1-9a95-384d1145cee6"
      },
      "execution_count": 29,
      "outputs": [
        {
          "output_type": "stream",
          "name": "stdout",
          "text": [
            "+-------+----+----------+------+\n",
            "|   Name| Age|Experience|Salary|\n",
            "+-------+----+----------+------+\n",
            "|    Ram|  30|        10| 30000|\n",
            "|   Sita|  31|         8| 25000|\n",
            "|Hanuman|  29|         4| 20000|\n",
            "|  Bhanu|  24|         3| 20000|\n",
            "| Saketh|  21|         1| 15000|\n",
            "|   Hari|  23|         2| 18000|\n",
            "|  Sunny|NULL|      NULL| 40000|\n",
            "|   NULL|  34|        10| 38000|\n",
            "+-------+----+----------+------+\n",
            "\n",
            "+-------+---+----------+------+\n",
            "|   Name|Age|Experience|Salary|\n",
            "+-------+---+----------+------+\n",
            "|    Ram| 30|        10| 30000|\n",
            "|   Sita| 31|         8| 25000|\n",
            "|Hanuman| 29|         4| 20000|\n",
            "|  Bhanu| 24|         3| 20000|\n",
            "| Saketh| 21|         1| 15000|\n",
            "|   Hari| 23|         2| 18000|\n",
            "|   NULL| 34|        10| 38000|\n",
            "|   NULL| 36|      NULL|  NULL|\n",
            "+-------+---+----------+------+\n",
            "\n"
          ]
        }
      ]
    },
    {
      "cell_type": "code",
      "source": [
        "df_spark.na.fill(\"Missing Values\").show()\n",
        "df_spark.na.fill(-1).show()"
      ],
      "metadata": {
        "colab": {
          "base_uri": "https://localhost:8080/"
        },
        "id": "aHbjMu-EZ9mu",
        "outputId": "5cd3e548-9db3-4c0b-c2e7-3bf6b2cdb7c6"
      },
      "execution_count": 46,
      "outputs": [
        {
          "output_type": "stream",
          "name": "stdout",
          "text": [
            "+--------------+----+----------+------+\n",
            "|          Name| Age|Experience|Salary|\n",
            "+--------------+----+----------+------+\n",
            "|           Ram|  30|        10| 30000|\n",
            "|          Sita|  31|         8| 25000|\n",
            "|       Hanuman|  29|         4| 20000|\n",
            "|         Bhanu|  24|         3| 20000|\n",
            "|        Saketh|  21|         1| 15000|\n",
            "|          Hari|  23|         2| 18000|\n",
            "|         Sunny|NULL|      NULL| 40000|\n",
            "|Missing Values|  34|        10| 38000|\n",
            "|Missing Values|  36|      NULL|  NULL|\n",
            "+--------------+----+----------+------+\n",
            "\n",
            "+-------+---+----------+------+\n",
            "|   Name|Age|Experience|Salary|\n",
            "+-------+---+----------+------+\n",
            "|    Ram| 30|        10| 30000|\n",
            "|   Sita| 31|         8| 25000|\n",
            "|Hanuman| 29|         4| 20000|\n",
            "|  Bhanu| 24|         3| 20000|\n",
            "| Saketh| 21|         1| 15000|\n",
            "|   Hari| 23|         2| 18000|\n",
            "|  Sunny| -1|        -1| 40000|\n",
            "|   NULL| 34|        10| 38000|\n",
            "|   NULL| 36|        -1|    -1|\n",
            "+-------+---+----------+------+\n",
            "\n"
          ]
        }
      ]
    },
    {
      "cell_type": "code",
      "source": [
        "from pyspark.ml.feature import Imputer\n",
        "\n",
        "imputer = Imputer(inputCols=['Age', 'Experience', 'Salary'],\n",
        "                 outputCols=[\"{}_imputed\".format(c) for c in ['Age','Experience', 'Salary']]\n",
        "                 ).setStrategy('mean')"
      ],
      "metadata": {
        "id": "NIzM3VnGb7X5"
      },
      "execution_count": 47,
      "outputs": []
    },
    {
      "cell_type": "code",
      "source": [
        "## ADD imputation cols to df\n",
        "imputer.fit(df_spark).transform(df_spark).show()"
      ],
      "metadata": {
        "colab": {
          "base_uri": "https://localhost:8080/"
        },
        "id": "-q5iSfQPcyzc",
        "outputId": "b6e95562-7441-4679-9aef-32626e86efeb"
      },
      "execution_count": 48,
      "outputs": [
        {
          "output_type": "stream",
          "name": "stdout",
          "text": [
            "+-------+----+----------+------+-----------+------------------+--------------+\n",
            "|   Name| Age|Experience|Salary|Age_imputed|Experience_imputed|Salary_imputed|\n",
            "+-------+----+----------+------+-----------+------------------+--------------+\n",
            "|    Ram|  30|        10| 30000|         30|                10|         30000|\n",
            "|   Sita|  31|         8| 25000|         31|                 8|         25000|\n",
            "|Hanuman|  29|         4| 20000|         29|                 4|         20000|\n",
            "|  Bhanu|  24|         3| 20000|         24|                 3|         20000|\n",
            "| Saketh|  21|         1| 15000|         21|                 1|         15000|\n",
            "|   Hari|  23|         2| 18000|         23|                 2|         18000|\n",
            "|  Sunny|NULL|      NULL| 40000|         28|                 5|         40000|\n",
            "|   NULL|  34|        10| 38000|         34|                10|         38000|\n",
            "|   NULL|  36|      NULL|  NULL|         36|                 5|         25750|\n",
            "+-------+----+----------+------+-----------+------------------+--------------+\n",
            "\n"
          ]
        }
      ]
    },
    {
      "cell_type": "code",
      "source": [
        "df_spark.filter(\"Salary<=20000\").show()"
      ],
      "metadata": {
        "colab": {
          "base_uri": "https://localhost:8080/"
        },
        "id": "R7BVerfGc1yq",
        "outputId": "62716e1c-f51d-4f1b-dda1-f85957cf99b0"
      },
      "execution_count": 49,
      "outputs": [
        {
          "output_type": "stream",
          "name": "stdout",
          "text": [
            "+-------+---+----------+------+\n",
            "|   Name|Age|Experience|Salary|\n",
            "+-------+---+----------+------+\n",
            "|Hanuman| 29|         4| 20000|\n",
            "|  Bhanu| 24|         3| 20000|\n",
            "| Saketh| 21|         1| 15000|\n",
            "|   Hari| 23|         2| 18000|\n",
            "+-------+---+----------+------+\n",
            "\n"
          ]
        }
      ]
    },
    {
      "cell_type": "code",
      "source": [
        "df_spark.filter(\"Salary<=20000\").select([\"Name\",\"Age\"]).show()"
      ],
      "metadata": {
        "colab": {
          "base_uri": "https://localhost:8080/"
        },
        "id": "M3HjSXdjdzZA",
        "outputId": "bed7d3d6-84aa-44b9-970a-4950c16f9dac"
      },
      "execution_count": 50,
      "outputs": [
        {
          "output_type": "stream",
          "name": "stdout",
          "text": [
            "+-------+---+\n",
            "|   Name|Age|\n",
            "+-------+---+\n",
            "|Hanuman| 29|\n",
            "|  Bhanu| 24|\n",
            "| Saketh| 21|\n",
            "|   Hari| 23|\n",
            "+-------+---+\n",
            "\n"
          ]
        }
      ]
    },
    {
      "cell_type": "code",
      "source": [
        "df_spark.filter((df_spark[\"Salary\"]<=20000) & (df_spark[\"Salary\"]>=15000)).select([\"Name\",\"Age\"]).show()"
      ],
      "metadata": {
        "colab": {
          "base_uri": "https://localhost:8080/"
        },
        "id": "hMu17_GheIfJ",
        "outputId": "257c4dfb-5790-4178-8652-3e7dcc5e3d0f"
      },
      "execution_count": 52,
      "outputs": [
        {
          "output_type": "stream",
          "name": "stdout",
          "text": [
            "+-------+---+\n",
            "|   Name|Age|\n",
            "+-------+---+\n",
            "|Hanuman| 29|\n",
            "|  Bhanu| 24|\n",
            "| Saketh| 21|\n",
            "|   Hari| 23|\n",
            "+-------+---+\n",
            "\n"
          ]
        }
      ]
    },
    {
      "cell_type": "code",
      "source": [
        "df_spark.filter(~(df_spark[\"Salary\"]<=20000)).show()"
      ],
      "metadata": {
        "colab": {
          "base_uri": "https://localhost:8080/"
        },
        "id": "DVeAGrbFgmbn",
        "outputId": "268892a1-a5b2-4c3c-9fc5-05ddcca24897"
      },
      "execution_count": 53,
      "outputs": [
        {
          "output_type": "stream",
          "name": "stdout",
          "text": [
            "+-----+----+----------+------+\n",
            "| Name| Age|Experience|Salary|\n",
            "+-----+----+----------+------+\n",
            "|  Ram|  30|        10| 30000|\n",
            "| Sita|  31|         8| 25000|\n",
            "|Sunny|NULL|      NULL| 40000|\n",
            "| NULL|  34|        10| 38000|\n",
            "+-----+----+----------+------+\n",
            "\n"
          ]
        }
      ]
    },
    {
      "cell_type": "code",
      "source": [],
      "metadata": {
        "id": "uAaYbPFKhIvr"
      },
      "execution_count": null,
      "outputs": []
    }
  ]
}