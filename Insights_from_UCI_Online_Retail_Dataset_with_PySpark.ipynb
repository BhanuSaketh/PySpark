{
  "nbformat": 4,
  "nbformat_minor": 0,
  "metadata": {
    "colab": {
      "provenance": [],
      "authorship_tag": "ABX9TyOaC+6HD0wXgsA/29XJiLON",
      "include_colab_link": true
    },
    "kernelspec": {
      "name": "python3",
      "display_name": "Python 3"
    },
    "language_info": {
      "name": "python"
    }
  },
  "cells": [
    {
      "cell_type": "markdown",
      "metadata": {
        "id": "view-in-github",
        "colab_type": "text"
      },
      "source": [
        "<a href=\"https://colab.research.google.com/github/BhanuSaketh/PySpark/blob/main/Insights_from_UCI_Online_Retail_Dataset_with_PySpark.ipynb\" target=\"_parent\"><img src=\"https://colab.research.google.com/assets/colab-badge.svg\" alt=\"Open In Colab\"/></a>"
      ]
    },
    {
      "cell_type": "markdown",
      "source": [
        " Load the Dataset\n"
      ],
      "metadata": {
        "id": "HttGJF4H50fh"
      }
    },
    {
      "cell_type": "code",
      "execution_count": 2,
      "metadata": {
        "id": "OFA5-LE6dkzD"
      },
      "outputs": [],
      "source": [
        "from pyspark.sql import SparkSession"
      ]
    },
    {
      "cell_type": "code",
      "source": [
        "spark=SparkSession.builder.appName(\"spark\").getOrCreate()"
      ],
      "metadata": {
        "id": "UldeofgYdzdW"
      },
      "execution_count": 5,
      "outputs": []
    },
    {
      "cell_type": "code",
      "source": [
        "df=spark.read.csv('online_retail.csv',header=True,inferSchema=True)\n",
        "df.show(6)"
      ],
      "metadata": {
        "colab": {
          "base_uri": "https://localhost:8080/"
        },
        "id": "tdGeijY8eDHl",
        "outputId": "156764aa-8896-4dcb-e782-88590e921ff8"
      },
      "execution_count": 61,
      "outputs": [
        {
          "output_type": "stream",
          "name": "stdout",
          "text": [
            "+-------+---------+--------------------+--------+-------------------+-----+-----------+--------------+\n",
            "|Invoice|StockCode|         Description|Quantity|        InvoiceDate|Price|Customer ID|       Country|\n",
            "+-------+---------+--------------------+--------+-------------------+-----+-----------+--------------+\n",
            "| 489434|    85048|15CM CHRISTMAS GL...|      12|2009-12-01 07:45:00| 6.95|    13085.0|United Kingdom|\n",
            "| 489434|   79323P|  PINK CHERRY LIGHTS|      12|2009-12-01 07:45:00| 6.75|    13085.0|United Kingdom|\n",
            "| 489434|   79323W| WHITE CHERRY LIGHTS|      12|2009-12-01 07:45:00| 6.75|    13085.0|United Kingdom|\n",
            "| 489434|    22041|\"RECORD FRAME 7\"\"...|      48|2009-12-01 07:45:00|  2.1|    13085.0|United Kingdom|\n",
            "| 489434|    21232|STRAWBERRY CERAMI...|      24|2009-12-01 07:45:00| 1.25|    13085.0|United Kingdom|\n",
            "| 489434|    22064|PINK DOUGHNUT TRI...|      24|2009-12-01 07:45:00| 1.65|    13085.0|United Kingdom|\n",
            "+-------+---------+--------------------+--------+-------------------+-----+-----------+--------------+\n",
            "only showing top 6 rows\n",
            "\n"
          ]
        }
      ]
    },
    {
      "cell_type": "markdown",
      "source": [
        "Schema"
      ],
      "metadata": {
        "id": "hNo-yRuQ58LV"
      }
    },
    {
      "cell_type": "code",
      "source": [
        "df.printSchema()"
      ],
      "metadata": {
        "colab": {
          "base_uri": "https://localhost:8080/"
        },
        "id": "mk6oVZYIzgn1",
        "outputId": "40ed1f2f-5354-48d4-de2f-c958992d99c8"
      },
      "execution_count": 12,
      "outputs": [
        {
          "output_type": "stream",
          "name": "stdout",
          "text": [
            "root\n",
            " |-- Invoice: string (nullable = true)\n",
            " |-- StockCode: string (nullable = true)\n",
            " |-- Description: string (nullable = true)\n",
            " |-- Quantity: integer (nullable = true)\n",
            " |-- InvoiceDate: timestamp (nullable = true)\n",
            " |-- Price: double (nullable = true)\n",
            " |-- Customer ID: double (nullable = true)\n",
            " |-- Country: string (nullable = true)\n",
            "\n"
          ]
        }
      ]
    },
    {
      "cell_type": "markdown",
      "source": [
        "**Data Cleaning**"
      ],
      "metadata": {
        "id": "nuatHfHS5_CM"
      }
    },
    {
      "cell_type": "code",
      "source": [
        "from pyspark.sql.functions import col\n",
        "df.filter(col(\"Customer ID\").isNull()).count()"
      ],
      "metadata": {
        "colab": {
          "base_uri": "https://localhost:8080/"
        },
        "id": "IRXpDE8Izz0i",
        "outputId": "ce57257a-7b63-4d39-bfb6-e524d29500b0"
      },
      "execution_count": 62,
      "outputs": [
        {
          "output_type": "execute_result",
          "data": {
            "text/plain": [
              "69868"
            ]
          },
          "metadata": {},
          "execution_count": 62
        }
      ]
    },
    {
      "cell_type": "code",
      "source": [
        "df=df.na.drop(how='any')"
      ],
      "metadata": {
        "id": "xnDNVPaE0MCc"
      },
      "execution_count": 65,
      "outputs": []
    },
    {
      "cell_type": "code",
      "source": [
        "df.filter(col(\"Customer ID\").isNull()).count()"
      ],
      "metadata": {
        "colab": {
          "base_uri": "https://localhost:8080/"
        },
        "id": "9defsn_O1BbN",
        "outputId": "d8131a1b-d928-401f-aa45-3c7bc1e3f4fd"
      },
      "execution_count": 66,
      "outputs": [
        {
          "output_type": "execute_result",
          "data": {
            "text/plain": [
              "0"
            ]
          },
          "metadata": {},
          "execution_count": 66
        }
      ]
    },
    {
      "cell_type": "code",
      "source": [
        "df = df.filter((col(\"Quantity\") > 0) & (col(\"Price\") > 0))"
      ],
      "metadata": {
        "id": "6bFkWiJc2upa"
      },
      "execution_count": 33,
      "outputs": []
    },
    {
      "cell_type": "markdown",
      "source": [
        "**Basic Descriptive Analysis**"
      ],
      "metadata": {
        "id": "txn9PSDP6Udy"
      }
    },
    {
      "cell_type": "code",
      "source": [
        "print(\"Total Transactions:\", df.select(\"Invoice\").distinct().count())\n",
        "print(\"Unique Customers:\", df.select(\"Customer ID\").distinct().count())"
      ],
      "metadata": {
        "colab": {
          "base_uri": "https://localhost:8080/"
        },
        "id": "fghooTxn1Fk5",
        "outputId": "3ea5e914-0b30-411e-caec-b72a926c4e43"
      },
      "execution_count": 35,
      "outputs": [
        {
          "output_type": "stream",
          "name": "stdout",
          "text": [
            "Total Transactions: 12303\n",
            "Unique Customers: 3349\n"
          ]
        }
      ]
    },
    {
      "cell_type": "code",
      "source": [
        "df.describe([\"Quantity\", \"Price\"]).show()"
      ],
      "metadata": {
        "colab": {
          "base_uri": "https://localhost:8080/"
        },
        "id": "KSAGrLZX1fje",
        "outputId": "f7e42845-5555-433e-bab4-fe1a803d5273"
      },
      "execution_count": 37,
      "outputs": [
        {
          "output_type": "stream",
          "name": "stdout",
          "text": [
            "+-------+------------------+------------------+\n",
            "|summary|          Quantity|             Price|\n",
            "+-------+------------------+------------------+\n",
            "|  count|            253459|            253459|\n",
            "|   mean|14.396651923979816|3.3658279287785207|\n",
            "| stddev|110.08397027703005| 36.60756906006961|\n",
            "|    min|                 1|             0.001|\n",
            "|    max|             19152|           10953.5|\n",
            "+-------+------------------+------------------+\n",
            "\n"
          ]
        }
      ]
    },
    {
      "cell_type": "code",
      "source": [
        "df.groupBy(\"Country\").count().orderBy(col(\"count\").desc()).show()"
      ],
      "metadata": {
        "colab": {
          "base_uri": "https://localhost:8080/"
        },
        "id": "wpDaUF_z29K0",
        "outputId": "3abdcf4e-a4aa-4d17-d728-3102120b2512"
      },
      "execution_count": 38,
      "outputs": [
        {
          "output_type": "stream",
          "name": "stdout",
          "text": [
            "+--------------------+------+\n",
            "|             Country| count|\n",
            "+--------------------+------+\n",
            "|      United Kingdom|230846|\n",
            "|                EIRE|  5285|\n",
            "|             Germany|  5029|\n",
            "|              France|  3216|\n",
            "|         Netherlands|  1795|\n",
            "|               Spain|   778|\n",
            "|         Switzerland|   675|\n",
            "|             Belgium|   666|\n",
            "|              Sweden|   589|\n",
            "|            Portugal|   496|\n",
            "|              Cyprus|   488|\n",
            "|     Channel Islands|   433|\n",
            "|               Italy|   306|\n",
            "|             Austria|   301|\n",
            "|             Denmark|   277|\n",
            "|           Australia|   277|\n",
            "|              Greece|   276|\n",
            "|United Arab Emirates|   252|\n",
            "|             Finland|   214|\n",
            "|                 USA|   182|\n",
            "+--------------------+------+\n",
            "only showing top 20 rows\n",
            "\n"
          ]
        }
      ]
    },
    {
      "cell_type": "markdown",
      "source": [
        "**Revenue Analysis**"
      ],
      "metadata": {
        "id": "TH_pvlm26aUi"
      }
    },
    {
      "cell_type": "code",
      "source": [
        "df = df.withColumn(\"TotalRevenue\", col(\"Quantity\") * col(\"Price\"))\n",
        "df.select(\"Invoice\", \"TotalRevenue\").show(5)"
      ],
      "metadata": {
        "colab": {
          "base_uri": "https://localhost:8080/"
        },
        "id": "0f2_FRR-3DXB",
        "outputId": "ceb41c4a-6366-47c0-bc62-1e86d37c728d"
      },
      "execution_count": 40,
      "outputs": [
        {
          "output_type": "stream",
          "name": "stdout",
          "text": [
            "+-------+------------------+\n",
            "|Invoice|      TotalRevenue|\n",
            "+-------+------------------+\n",
            "| 489434|              83.4|\n",
            "| 489434|              81.0|\n",
            "| 489434|              81.0|\n",
            "| 489434|100.80000000000001|\n",
            "| 489434|              30.0|\n",
            "+-------+------------------+\n",
            "only showing top 5 rows\n",
            "\n"
          ]
        }
      ]
    },
    {
      "cell_type": "code",
      "source": [
        "df.agg({\"TotalRevenue\": \"sum\"}).show()"
      ],
      "metadata": {
        "colab": {
          "base_uri": "https://localhost:8080/"
        },
        "id": "JIF_FMWd3K-v",
        "outputId": "b9943870-326f-4bf2-d630-34dbecd30167"
      },
      "execution_count": 41,
      "outputs": [
        {
          "output_type": "stream",
          "name": "stdout",
          "text": [
            "+-----------------+\n",
            "|sum(TotalRevenue)|\n",
            "+-----------------+\n",
            "|5614640.971000284|\n",
            "+-----------------+\n",
            "\n"
          ]
        }
      ]
    },
    {
      "cell_type": "code",
      "source": [
        "df.groupBy(\"Country\").sum(\"TotalRevenue\").orderBy(col(\"sum(TotalRevenue)\").desc()).show(10)"
      ],
      "metadata": {
        "colab": {
          "base_uri": "https://localhost:8080/"
        },
        "id": "wEPDsNNk3V1E",
        "outputId": "9554a226-dc23-4374-aeef-ea0d2eb45b72"
      },
      "execution_count": 42,
      "outputs": [
        {
          "output_type": "stream",
          "name": "stdout",
          "text": [
            "+--------------+------------------+\n",
            "|       Country| sum(TotalRevenue)|\n",
            "+--------------+------------------+\n",
            "|United Kingdom| 4693642.889999666|\n",
            "|          EIRE| 245800.4400000002|\n",
            "|   Netherlands|181971.57999999978|\n",
            "|       Germany| 129334.9810000001|\n",
            "|        France| 96474.66000000018|\n",
            "|       Denmark|43391.540000000015|\n",
            "|        Sweden|41173.270000000004|\n",
            "|         Spain| 23602.76000000001|\n",
            "|   Switzerland| 20426.21999999999|\n",
            "|       Belgium|16405.369999999995|\n",
            "+--------------+------------------+\n",
            "only showing top 10 rows\n",
            "\n"
          ]
        }
      ]
    },
    {
      "cell_type": "code",
      "source": [
        "df.groupBy(\"Customer ID\").sum(\"TotalRevenue\").orderBy(col(\"sum(TotalRevenue)\").desc()).show(10)"
      ],
      "metadata": {
        "colab": {
          "base_uri": "https://localhost:8080/"
        },
        "id": "peMHPCuW3gSR",
        "outputId": "a3d4c8ed-291e-4fa7-baf1-96a4ddb2ad34"
      },
      "execution_count": 44,
      "outputs": [
        {
          "output_type": "stream",
          "name": "stdout",
          "text": [
            "+-----------+------------------+\n",
            "|Customer ID| sum(TotalRevenue)|\n",
            "+-----------+------------------+\n",
            "|    18102.0| 269041.6699999999|\n",
            "|    14646.0|167028.64999999982|\n",
            "|    14156.0|154877.14999999973|\n",
            "|    13694.0|114527.41000000006|\n",
            "|    14911.0| 84594.36999999997|\n",
            "|    17511.0| 61806.31999999996|\n",
            "|    15061.0| 52028.14999999998|\n",
            "|    16754.0|50926.810000000005|\n",
            "|    15311.0| 44291.61000000005|\n",
            "|    17949.0| 43253.76000000001|\n",
            "+-----------+------------------+\n",
            "only showing top 10 rows\n",
            "\n"
          ]
        }
      ]
    },
    {
      "cell_type": "markdown",
      "source": [
        "**Customer Segmentation**"
      ],
      "metadata": {
        "id": "pPDlattc6d5a"
      }
    },
    {
      "cell_type": "code",
      "source": [
        "df.groupBy(\"Customer ID\").agg({\"TotalRevenue\": \"avg\"}).orderBy(col(\"avg(TotalRevenue)\").desc()).show(10)"
      ],
      "metadata": {
        "colab": {
          "base_uri": "https://localhost:8080/"
        },
        "id": "qQzpfIqq3lKy",
        "outputId": "6a81c3ff-0f26-4142-a4fe-269ca42b6133"
      },
      "execution_count": 46,
      "outputs": [
        {
          "output_type": "stream",
          "name": "stdout",
          "text": [
            "+-----------+------------------+\n",
            "|Customer ID| avg(TotalRevenue)|\n",
            "+-----------+------------------+\n",
            "|    12918.0|           10953.5|\n",
            "|    15760.0|           6958.17|\n",
            "|    12737.0|           1855.25|\n",
            "|    17940.0|       1411.209375|\n",
            "|    14028.0|1155.1666666666667|\n",
            "|    14255.0|           1000.63|\n",
            "|    16532.0| 861.5999999999999|\n",
            "|    17876.0|            809.51|\n",
            "|    16308.0|             800.0|\n",
            "|    17310.0|             765.0|\n",
            "+-----------+------------------+\n",
            "only showing top 10 rows\n",
            "\n"
          ]
        }
      ]
    },
    {
      "cell_type": "markdown",
      "source": [
        "**Product Analysis**"
      ],
      "metadata": {
        "id": "9zltzzP76kjm"
      }
    },
    {
      "cell_type": "code",
      "source": [
        "df.groupBy(\"Description\").sum(\"Quantity\").orderBy(col(\"sum(Quantity)\").desc()).show(10)"
      ],
      "metadata": {
        "colab": {
          "base_uri": "https://localhost:8080/"
        },
        "id": "hHp6dQ2v3sVu",
        "outputId": "b4421eff-65a4-456c-f0df-1bd72e992a41"
      },
      "execution_count": 47,
      "outputs": [
        {
          "output_type": "stream",
          "name": "stdout",
          "text": [
            "+--------------------+-------------+\n",
            "|         Description|sum(Quantity)|\n",
            "+--------------------+-------------+\n",
            "|PACK OF 72 RETRO ...|        41230|\n",
            "|WHITE HANGING HEA...|        41052|\n",
            "|WORLD WAR 2 GLIDE...|        33756|\n",
            "| BROCADE RING PURSE |        28524|\n",
            "|60 TEATIME FAIRY ...|        27372|\n",
            "|BLACK AND WHITE P...|        25685|\n",
            "|ASSORTED COLOUR B...|        24653|\n",
            "|PACK OF 60 PINK P...|        22262|\n",
            "|COLOUR GLASS T-LI...|        22012|\n",
            "|PACK OF 12 RED SP...|        21749|\n",
            "+--------------------+-------------+\n",
            "only showing top 10 rows\n",
            "\n"
          ]
        }
      ]
    },
    {
      "cell_type": "code",
      "source": [
        "df.groupBy(\"Description\").sum(\"TotalRevenue\").orderBy(col(\"sum(TotalRevenue)\").desc()).show(10)"
      ],
      "metadata": {
        "colab": {
          "base_uri": "https://localhost:8080/"
        },
        "id": "ztqAtKfP36Pp",
        "outputId": "23d087c3-29bf-48fa-b8f5-1e920f2c51f2"
      },
      "execution_count": 48,
      "outputs": [
        {
          "output_type": "stream",
          "name": "stdout",
          "text": [
            "+--------------------+------------------+\n",
            "|         Description| sum(TotalRevenue)|\n",
            "+--------------------+------------------+\n",
            "|WHITE HANGING HEA...|109116.57999999942|\n",
            "|REGENCY CAKESTAND...| 75588.44999999997|\n",
            "|              Manual| 65992.77999999997|\n",
            "|ASSORTED COLOUR B...| 39351.89000000018|\n",
            "|             POSTAGE|          28785.18|\n",
            "|EDWARDIAN PARASOL...|27499.400000000038|\n",
            "|JUMBO BAG STRAWBERRY|          26548.35|\n",
            "|VINTAGE UNION JAC...|           26060.5|\n",
            "|SET/5 RED SPOTTY ...|25528.800000000054|\n",
            "|       PARTY BUNTING|24622.149999999994|\n",
            "+--------------------+------------------+\n",
            "only showing top 10 rows\n",
            "\n"
          ]
        }
      ]
    },
    {
      "cell_type": "markdown",
      "source": [
        "**Time-Based Analysis**"
      ],
      "metadata": {
        "id": "-S0vC1zT6pfp"
      }
    },
    {
      "cell_type": "code",
      "source": [
        "from pyspark.sql.functions import month\n",
        "\n",
        "df.groupBy(month(\"InvoiceDate\").alias(\"Month\")).sum(\"TotalRevenue\").orderBy(col(\"Month\")).show()"
      ],
      "metadata": {
        "colab": {
          "base_uri": "https://localhost:8080/"
        },
        "id": "JVnXIwcc4BHR",
        "outputId": "408804f0-8283-4106-a546-50410b8bd88f"
      },
      "execution_count": 49,
      "outputs": [
        {
          "output_type": "stream",
          "name": "stdout",
          "text": [
            "+-----+------------------+\n",
            "|Month| sum(TotalRevenue)|\n",
            "+-----+------------------+\n",
            "|    1| 557319.0620000134|\n",
            "|    2|506371.06600001536|\n",
            "|    3| 699608.9909999889|\n",
            "|    4| 594609.1919999976|\n",
            "|    5| 599985.7900000144|\n",
            "|    6| 639066.5800000058|\n",
            "|    7| 591636.7400000024|\n",
            "|    8| 604242.6499999989|\n",
            "|    9|135146.73999999883|\n",
            "|   12| 686654.1599999949|\n",
            "+-----+------------------+\n",
            "\n"
          ]
        }
      ]
    },
    {
      "cell_type": "code",
      "source": [
        "df.printSchema()"
      ],
      "metadata": {
        "colab": {
          "base_uri": "https://localhost:8080/"
        },
        "id": "XxvID0w04UaO",
        "outputId": "d608c244-0505-4f63-8eb7-82d6e8d4c135"
      },
      "execution_count": 52,
      "outputs": [
        {
          "output_type": "stream",
          "name": "stdout",
          "text": [
            "root\n",
            " |-- Invoice: string (nullable = true)\n",
            " |-- StockCode: string (nullable = true)\n",
            " |-- Description: string (nullable = true)\n",
            " |-- Quantity: integer (nullable = true)\n",
            " |-- InvoiceDate: timestamp (nullable = true)\n",
            " |-- Price: double (nullable = true)\n",
            " |-- Customer ID: double (nullable = true)\n",
            " |-- Country: string (nullable = true)\n",
            " |-- TotalRevenue: double (nullable = true)\n",
            "\n"
          ]
        }
      ]
    },
    {
      "cell_type": "markdown",
      "source": [
        "**RFM (Recency, Frequency, Monetary) Analysis**"
      ],
      "metadata": {
        "id": "PdCVwOq36s4Y"
      }
    },
    {
      "source": [
        "from pyspark.sql.functions import datediff, current_date, max, countDistinct,sum  # Import countDistinct\n",
        "\n",
        "# Recency: Days since last purchase\n",
        "recency_df = df.groupBy(\"Customer ID\").agg(datediff(current_date(), max(col(\"InvoiceDate\"))).alias(\"Recency\"))\n",
        "\n",
        "# Frequency: Total number of invoices per customer\n",
        "frequency_df = df.groupBy(\"Customer ID\").agg(countDistinct(\"Invoice\").alias(\"Frequency\"))\n",
        "\n",
        "# Monetary: Total spend per customer\n",
        "monetary_df = df.groupBy(\"Customer ID\").agg(sum(col(\"TotalRevenue\").cast(\"double\")).alias(\"Monetary\"))\n",
        "\n",
        "# Combine all RFM features\n",
        "rfm_df = recency_df.join(frequency_df, \"Customer ID\").join(monetary_df, \"Customer ID\")\n",
        "rfm_df.show(10)"
      ],
      "cell_type": "code",
      "metadata": {
        "colab": {
          "base_uri": "https://localhost:8080/"
        },
        "id": "UgaDUmBf4rHK",
        "outputId": "d1ae719b-e947-4415-cb52-5e41dcffb83d"
      },
      "execution_count": 60,
      "outputs": [
        {
          "output_type": "stream",
          "name": "stdout",
          "text": [
            "+-----------+-------+---------+------------------+\n",
            "|Customer ID|Recency|Frequency|          Monetary|\n",
            "+-----------+-------+---------+------------------+\n",
            "|    16596.0|   5484|        2|208.82999999999998|\n",
            "|    17884.0|   5272|       12|1705.2800000000004|\n",
            "|    14285.0|   5308|        4|1374.4099999999999|\n",
            "|    16822.0|   5481|        1|            181.39|\n",
            "|    17072.0|   5420|        1|            282.05|\n",
            "|    12671.0|   5401|        1| 2622.481000000001|\n",
            "|    15893.0|   5276|        1|305.28000000000003|\n",
            "|    12737.0|   5293|        2|            3710.5|\n",
            "|    14452.0|   5316|        1|127.30000000000003|\n",
            "|    17032.0|   5342|        8|3004.5999999999995|\n",
            "+-----------+-------+---------+------------------+\n",
            "only showing top 10 rows\n",
            "\n"
          ]
        }
      ]
    },
    {
      "cell_type": "code",
      "source": [],
      "metadata": {
        "id": "J2EXkP8t4KQV"
      },
      "execution_count": null,
      "outputs": []
    }
  ]
}